{
 "cells": [
  {
   "cell_type": "code",
   "execution_count": 5,
   "metadata": {},
   "outputs": [],
   "source": [
    "import numpy as np\n",
    "\n",
    "import pandas as pd"
   ]
  },
  {
   "cell_type": "code",
   "execution_count": 8,
   "metadata": {},
   "outputs": [],
   "source": [
    "df = pd.read_csv('../Data/Model_Data.csv')"
   ]
  },
  {
   "cell_type": "code",
   "execution_count": null,
   "metadata": {},
   "outputs": [],
   "source": [
    "from imblearn.combine import SMOTEENN\n",
    "from sklearn.model_selection import train_test_split, RandomizedSearchCV, StratifiedKFold\n",
    "from sklearn.preprocessing import StandardScaler\n",
    "from sklearn.metrics import make_scorer, accuracy_score, precision_score, recall_score, f1_score, classification_report\n",
    "from imblearn.pipeline import Pipeline\n",
    "from xgboost import XGBClassifier\n",
    "import joblib\n",
    "\n",
    "# Assuming df is your DataFrame\n",
    "X = df.drop(columns='label')\n",
    "y = df['label']\n",
    "\n",
    "# Train-test split\n",
    "X_train, X_test, y_train, y_test = train_test_split(X, y, test_size=0.2, random_state=42, stratify=y)\n",
    "\n",
    "scoring = {\n",
    "    'accuracy': make_scorer(accuracy_score),\n",
    "    'precision': make_scorer(precision_score),\n",
    "    'recall': make_scorer(recall_score),\n",
    "    'f1': make_scorer(f1_score),\n",
    "}\n",
    "\n",
    "# Define the pipeline\n",
    "estimator = Pipeline([\n",
    "    ('smoteenn', SMOTEENN()),  # SMOTEENN for resampling\n",
    "    ('scaler', StandardScaler()),  # Standardization\n",
    "    ('classification', XGBClassifier(eval_metric='auc', use_label_encoder=False))  # XGBoost with AUC metric\n",
    "])\n",
    "\n",
    "# Expanded parameter grid for XGBoost\n",
    "param_grid = {\n",
    "    'smoteenn__sampling_strategy': [0.1, 0.3, 0.5, 0.7, 1.0],\n",
    "    'classification__max_depth': [5, 7, 9, 15],  # Hạn chế max_depth\n",
    "    'classification__n_estimators': [200, 300, 500],  # Hợp lý hóa n_estimators\n",
    "    'classification__learning_rate': [0.001, 0.005, 0.01],  # Giữ lại các giá trị learning rate\n",
    "    'classification__colsample_bytree': [0.7, 0.8, 1.0],\n",
    "    'classification__subsample': [0.8, 1.0],\n",
    "    'classification__min_child_weight': [1, 2, 3],  # Điều chỉnh min_child_weight hợp lý\n",
    "    'classification__scale_pos_weight': [5, 10, 20, 30, 50, 100]  # Điều chỉnh scale_pos_weight\n",
    "}\n",
    "\n",
    "# Randomized search with cross-validation\n",
    "random_search = RandomizedSearchCV(\n",
    "    estimator=estimator,\n",
    "    param_distributions=param_grid,\n",
    "    cv=StratifiedKFold(n_splits=3, shuffle=True, random_state=42),\n",
    "    scoring=scoring,\n",
    "    refit='f1',  # Refitting based on Recall to focus on improving it\n",
    "    n_iter=50,  # Increased iterations for more extensive search\n",
    "    n_jobs=-1,  # Use all available CPUs\n",
    "    verbose=1\n",
    ")\n",
    "\n",
    "# Fit the random search on the training data\n",
    "random_search.fit(X_train, y_train)\n",
    "\n",
    "# Get the best model from random search\n",
    "best_model = random_search.best_estimator_\n",
    "\n",
    "# Predict on the test set\n",
    "y_pred = best_model.predict(X_test)\n",
    "\n",
    "# Display the classification report\n",
    "print(\"\\nClassification Report:\")\n",
    "print(classification_report(y_test, y_pred))\n",
    "\n",
    "# Optionally save the best model\n",
    "joblib.dump(best_model, 'best_xgb_model_tuned.pkl')\n"
   ]
  }
 ],
 "metadata": {
  "kernelspec": {
   "display_name": "Python 3",
   "language": "python",
   "name": "python3"
  },
  "language_info": {
   "codemirror_mode": {
    "name": "ipython",
    "version": 3
   },
   "file_extension": ".py",
   "mimetype": "text/x-python",
   "name": "python",
   "nbconvert_exporter": "python",
   "pygments_lexer": "ipython3",
   "version": "3.12.1"
  }
 },
 "nbformat": 4,
 "nbformat_minor": 2
}
