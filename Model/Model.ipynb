{
 "cells": [
  {
   "cell_type": "code",
   "execution_count": 3,
   "metadata": {},
   "outputs": [],
   "source": [
    "import pandas as pd\n",
    "import numpy as np"
   ]
  },
  {
   "cell_type": "code",
   "execution_count": 4,
   "metadata": {},
   "outputs": [],
   "source": [
    "df = pd.read_csv('../Data/Cleaned_Data.csv')"
   ]
  },
  {
   "cell_type": "markdown",
   "metadata": {},
   "source": [
    "# Select columns that affect performance of the model"
   ]
  },
  {
   "cell_type": "markdown",
   "metadata": {},
   "source": [
    "## Remove columns with multicollinearity."
   ]
  },
  {
   "cell_type": "code",
   "execution_count": 5,
   "metadata": {},
   "outputs": [],
   "source": [
    "\n",
    "columns_to_remove = [\n",
    "    'customer_id', 'SHORT_TERM_COUNT', 'MID_TERM_COUNT', 'LONG_TERM_COUNT',\n",
    "    'NUMBER_OF_LOANS', 'NUMBER_OF_CREDIT_CARDS', 'NUMBER_OF_RELATIONSHIP',\n",
    "    'OUTSTANDING_BAL_ALL_3M', 'OUTSTANDING_BAL_ALL_6M', 'OUTSTANDING_BAL_ALL_9M', 'OUTSTANDING_BAL_ALL_12M',\n",
    "    'OUTSTANDING_BAL_LOAN_3M_6M', 'OUTSTANDING_BAL_LOAN_6M_9M', 'OUTSTANDING_BAL_LOAN_9M_12M',\n",
    "    'OUTSTANDING_BAL_LOAN_6M_12M', 'OUTSTANDING_BAL_LOAN_3M_12M', 'OUTSTANDING_BAL_CC_3M_6M',\n",
    "    'OUTSTANDING_BAL_CC_6M_9M', 'OUTSTANDING_BAL_CC_9M_12M', 'OUTSTANDING_BAL_CC_6M_12M',\n",
    "    'OUTSTANDING_BAL_CC_3M_12M', 'OUTSTANDING_BAL_ALL_3M_6M', 'OUTSTANDING_BAL_ALL_6M_9M',\n",
    "    'OUTSTANDING_BAL_ALL_9M_12M', 'OUTSTANDING_BAL_ALL_6M_12M', 'OUTSTANDING_BAL_ALL_3M_12M',\n",
    "    'ENQUIRIES_3M_6M', 'ENQUIRIES_6M_9M', 'ENQUIRIES_9M_12M', 'ENQUIRIES_6M_12M',\n",
    "    'ENQUIRIES_3M_12M', 'ENQUIRIES_FROM_BANK_3M_6M', 'ENQUIRIES_FROM_BANK_6M_9M',\n",
    "    'ENQUIRIES_FROM_BANK_9M_12M', 'ENQUIRIES_FROM_BANK_6M_12M', 'ENQUIRIES_FROM_BANK_3M_12M',\n",
    "    'ENQUIRIES_FROM_NON_BANK_3M_6M', 'ENQUIRIES_FROM_NON_BANK_6M_9M',\n",
    "    'ENQUIRIES_FROM_NON_BANK_9M_12M', 'ENQUIRIES_FROM_NON_BANK_6M_12M',\n",
    "    'ENQUIRIES_FROM_NON_BANK_3M_12M'\n",
    "]\n",
    "\n",
    "df = df.drop(columns_to_remove,axis=1)\n",
    "\n"
   ]
  },
  {
   "cell_type": "markdown",
   "metadata": {},
   "source": [
    "## Remove outlier"
   ]
  },
  {
   "cell_type": "code",
   "execution_count": 6,
   "metadata": {},
   "outputs": [],
   "source": [
    "\n",
    "columns_to_check = [\n",
    "    'OUTSTANDING_BAL_LOAN_CURRENT', 'OUTSTANDING_BAL_LOAN_3M', 'OUTSTANDING_BAL_LOAN_6M', 'OUTSTANDING_BAL_LOAN_9M',\n",
    "    'OUTSTANDING_BAL_LOAN_12M', 'OUTSTANDING_BAL_CC_3M', 'OUTSTANDING_BAL_CC_6M', 'OUTSTANDING_BAL_CC_9M',\n",
    "    'OUTSTANDING_BAL_CC_12M', 'OUTSTANDING_BAL_ALL_CURRENT', 'SHORT_TERM_COUNT_BANK', 'MID_TERM_COUNT_BANK', 'LONG_TERM_COUNT_BANK',\n",
    "    'SHORT_TERM_COUNT_NON_BANK', 'MID_TERM_COUNT_NON_BANK', 'LONG_TERM_COUNT_NON_BANK', 'NUMBER_OF_LOANS_BANK', \n",
    "    'NUMBER_OF_LOANS_NON_BANK', 'NUMBER_OF_CREDIT_CARDS_BANK', 'NUMBER_OF_CREDIT_CARDS_NON_BANK', \n",
    "    'NUMBER_OF_RELATIONSHIP_BANK', 'NUMBER_OF_RELATIONSHIP_NON_BANK', 'NUM_NEW_LOAN_TAKEN_BANK_3M', \n",
    "    'NUM_NEW_LOAN_TAKEN_BANK_6M', 'NUM_NEW_LOAN_TAKEN_BANK_9M', 'NUM_NEW_LOAN_TAKEN_BANK_12M', \n",
    "    'NUM_NEW_LOAN_TAKEN_NON_BANK_3M', 'NUM_NEW_LOAN_TAKEN_NON_BANK_6M', 'NUM_NEW_LOAN_TAKEN_NON_BANK_9M', \n",
    "    'NUM_NEW_LOAN_TAKEN_NON_BANK_12M'\n",
    "]\n",
    "\n",
    "def remove_outliers_iqr(df, columns):\n",
    "    Q1 = df[columns].quantile(0.25)\n",
    "    Q3 = df[columns].quantile(0.75)\n",
    "    IQR = Q3 - Q1\n",
    "    df_out = df[~((df[columns] < (Q1 - 1.5 * IQR)) |(df[columns] > (Q3 + 1.5 * IQR))).any(axis=1)]\n",
    "    return df_out\n",
    "\n",
    "df = remove_outliers_iqr(df, columns_to_check)\n"
   ]
  },
  {
   "cell_type": "markdown",
   "metadata": {},
   "source": [
    "## Loại những cột có độ lệch chuẩn bằng không"
   ]
  },
  {
   "cell_type": "code",
   "execution_count": 7,
   "metadata": {},
   "outputs": [
    {
     "name": "stdout",
     "output_type": "stream",
     "text": [
      "Loại bỏ các biến có độ lệch chuẩn bằng 0: ['MID_TERM_COUNT_BANK', 'LONG_TERM_COUNT_BANK', 'LONG_TERM_COUNT_NON_BANK']\n"
     ]
    }
   ],
   "source": [
    "def drop_zero_std_features(X):\n",
    "    zero_std_cols = X.columns[X.std() == 0]\n",
    "    if len(zero_std_cols) > 0:\n",
    "        print(f\"Loại bỏ các biến có độ lệch chuẩn bằng 0: {list(zero_std_cols)}\")\n",
    "        X = X.drop(columns=zero_std_cols)\n",
    "    return X\n",
    "\n",
    "df = drop_zero_std_features(df)"
   ]
  },
  {
   "cell_type": "markdown",
   "metadata": {},
   "source": [
    "## Loại bỏ những cột có tính tương quan cao"
   ]
  },
  {
   "cell_type": "code",
   "execution_count": 8,
   "metadata": {},
   "outputs": [
    {
     "name": "stdout",
     "output_type": "stream",
     "text": [
      "Loại bỏ các biến có tương quan cao (> 0.95):\n",
      "['NUMBER_OF_LOANS_BANK', 'NUM_NEW_LOAN_TAKEN_BANK_3M', 'NUM_NEW_LOAN_TAKEN_BANK_6M', 'NUM_NEW_LOAN_TAKEN_BANK_9M', 'NUM_NEW_LOAN_TAKEN_BANK_12M', 'NUM_NEW_LOAN_TAKEN_NON_BANK_3M', 'NUM_NEW_LOAN_TAKEN_NON_BANK_6M', 'NUM_NEW_LOAN_TAKEN_NON_BANK_9M', 'NUM_NEW_LOAN_TAKEN_NON_BANK_12M', 'OUTSTANDING_BAL_LOAN_9M', 'OUTSTANDING_BAL_LOAN_12M', 'OUTSTANDING_BAL_CC_6M', 'OUTSTANDING_BAL_CC_9M', 'OUTSTANDING_BAL_CC_12M', 'ENQUIRIES_12M', 'ENQUIRIES_FOR_LOAN_3M', 'ENQUIRIES_FROM_BANK_FOR_LOAN_3M', 'ENQUIRIES_FROM_NON_BANK_FOR_LOAN_3M', 'ENQUIRIES_FROM_BANK_FOR_CC_3M', 'ENQUIRIES_FOR_LOAN_6M', 'ENQUIRIES_FROM_BANK_FOR_LOAN_6M', 'ENQUIRIES_FROM_NON_BANK_FOR_LOAN_6M', 'ENQUIRIES_FROM_BANK_FOR_CC_6M', 'ENQUIRIES_FOR_LOAN_9M', 'ENQUIRIES_FROM_BANK_FOR_LOAN_9M', 'ENQUIRIES_FROM_NON_BANK_FOR_LOAN_9M', 'ENQUIRIES_FROM_BANK_FOR_CC_9M', 'ENQUIRIES_FROM_NON_BANK_12M', 'ENQUIRIES_FOR_LOAN_12M', 'ENQUIRIES_FOR_CC_12M', 'ENQUIRIES_FROM_BANK_FOR_LOAN_12M', 'ENQUIRIES_FROM_NON_BANK_FOR_LOAN_12M', 'ENQUIRIES_FROM_BANK_FOR_CC_12M']\n"
     ]
    }
   ],
   "source": [
    "\n",
    "def remove_highly_correlated_features(X, correlation_threshold=0.95):\n",
    "    corr_matrix = X.corr().abs()\n",
    "    upper = corr_matrix.where(np.triu(np.ones(corr_matrix.shape), k=1).astype(bool))\n",
    "    high_corr_cols = [column for column in upper.columns if any(upper[column] > correlation_threshold)]\n",
    "    if high_corr_cols:\n",
    "        print(f\"Loại bỏ các biến có tương quan cao (> {correlation_threshold}):\")\n",
    "        print(high_corr_cols)\n",
    "        X = X.drop(columns=high_corr_cols)\n",
    "    return X\n",
    "df = remove_highly_correlated_features(df)"
   ]
  },
  {
   "cell_type": "code",
   "execution_count": 9,
   "metadata": {},
   "outputs": [
    {
     "data": {
      "text/html": [
       "<div>\n",
       "<style scoped>\n",
       "    .dataframe tbody tr th:only-of-type {\n",
       "        vertical-align: middle;\n",
       "    }\n",
       "\n",
       "    .dataframe tbody tr th {\n",
       "        vertical-align: top;\n",
       "    }\n",
       "\n",
       "    .dataframe thead th {\n",
       "        text-align: right;\n",
       "    }\n",
       "</style>\n",
       "<table border=\"1\" class=\"dataframe\">\n",
       "  <thead>\n",
       "    <tr style=\"text-align: right;\">\n",
       "      <th></th>\n",
       "      <th>ENQUIRIES_3M</th>\n",
       "      <th>ENQUIRIES_6M</th>\n",
       "      <th>ENQUIRIES_9M</th>\n",
       "    </tr>\n",
       "  </thead>\n",
       "  <tbody>\n",
       "    <tr>\n",
       "      <th>0</th>\n",
       "      <td>13.0</td>\n",
       "      <td>13.0</td>\n",
       "      <td>23.0</td>\n",
       "    </tr>\n",
       "    <tr>\n",
       "      <th>1</th>\n",
       "      <td>18.0</td>\n",
       "      <td>18.0</td>\n",
       "      <td>28.0</td>\n",
       "    </tr>\n",
       "    <tr>\n",
       "      <th>2</th>\n",
       "      <td>33.0</td>\n",
       "      <td>63.0</td>\n",
       "      <td>78.0</td>\n",
       "    </tr>\n",
       "    <tr>\n",
       "      <th>3</th>\n",
       "      <td>13.0</td>\n",
       "      <td>23.0</td>\n",
       "      <td>23.0</td>\n",
       "    </tr>\n",
       "    <tr>\n",
       "      <th>4</th>\n",
       "      <td>13.0</td>\n",
       "      <td>13.0</td>\n",
       "      <td>13.0</td>\n",
       "    </tr>\n",
       "    <tr>\n",
       "      <th>...</th>\n",
       "      <td>...</td>\n",
       "      <td>...</td>\n",
       "      <td>...</td>\n",
       "    </tr>\n",
       "    <tr>\n",
       "      <th>18822</th>\n",
       "      <td>18.0</td>\n",
       "      <td>18.0</td>\n",
       "      <td>18.0</td>\n",
       "    </tr>\n",
       "    <tr>\n",
       "      <th>18826</th>\n",
       "      <td>13.0</td>\n",
       "      <td>13.0</td>\n",
       "      <td>13.0</td>\n",
       "    </tr>\n",
       "    <tr>\n",
       "      <th>18827</th>\n",
       "      <td>13.0</td>\n",
       "      <td>13.0</td>\n",
       "      <td>13.0</td>\n",
       "    </tr>\n",
       "    <tr>\n",
       "      <th>18828</th>\n",
       "      <td>13.0</td>\n",
       "      <td>13.0</td>\n",
       "      <td>13.0</td>\n",
       "    </tr>\n",
       "    <tr>\n",
       "      <th>18831</th>\n",
       "      <td>13.0</td>\n",
       "      <td>13.0</td>\n",
       "      <td>23.0</td>\n",
       "    </tr>\n",
       "  </tbody>\n",
       "</table>\n",
       "<p>11417 rows × 3 columns</p>\n",
       "</div>"
      ],
      "text/plain": [
       "       ENQUIRIES_3M  ENQUIRIES_6M  ENQUIRIES_9M\n",
       "0              13.0          13.0          23.0\n",
       "1              18.0          18.0          28.0\n",
       "2              33.0          63.0          78.0\n",
       "3              13.0          23.0          23.0\n",
       "4              13.0          13.0          13.0\n",
       "...             ...           ...           ...\n",
       "18822          18.0          18.0          18.0\n",
       "18826          13.0          13.0          13.0\n",
       "18827          13.0          13.0          13.0\n",
       "18828          13.0          13.0          13.0\n",
       "18831          13.0          13.0          23.0\n",
       "\n",
       "[11417 rows x 3 columns]"
      ]
     },
     "execution_count": 9,
     "metadata": {},
     "output_type": "execute_result"
    }
   ],
   "source": [
    "df[['ENQUIRIES_3M','ENQUIRIES_6M','ENQUIRIES_9M']]"
   ]
  },
  {
   "cell_type": "markdown",
   "metadata": {},
   "source": [
    "## Loại những cột có tính đa cộng tuyến "
   ]
  },
  {
   "cell_type": "code",
   "execution_count": null,
   "metadata": {},
   "outputs": [
    {
     "name": "stderr",
     "output_type": "stream",
     "text": [
      "/Library/Frameworks/Python.framework/Versions/3.12/lib/python3.12/site-packages/statsmodels/stats/outliers_influence.py:197: RuntimeWarning: divide by zero encountered in scalar divide\n",
      "  vif = 1. / (1. - r_squared_i)\n"
     ]
    },
    {
     "name": "stdout",
     "output_type": "stream",
     "text": [
      "Đa cộng tuyến hoàn hảo được phát hiện với biến 'ENQUIRIES_3M'. Loại bỏ biến này.\n"
     ]
    },
    {
     "name": "stderr",
     "output_type": "stream",
     "text": [
      "/Library/Frameworks/Python.framework/Versions/3.12/lib/python3.12/site-packages/statsmodels/stats/outliers_influence.py:197: RuntimeWarning: divide by zero encountered in scalar divide\n",
      "  vif = 1. / (1. - r_squared_i)\n"
     ]
    },
    {
     "name": "stdout",
     "output_type": "stream",
     "text": [
      "Đa cộng tuyến hoàn hảo được phát hiện với biến 'ENQUIRIES_6M'. Loại bỏ biến này.\n"
     ]
    },
    {
     "name": "stderr",
     "output_type": "stream",
     "text": [
      "/Library/Frameworks/Python.framework/Versions/3.12/lib/python3.12/site-packages/statsmodels/stats/outliers_influence.py:197: RuntimeWarning: divide by zero encountered in scalar divide\n",
      "  vif = 1. / (1. - r_squared_i)\n"
     ]
    },
    {
     "name": "stdout",
     "output_type": "stream",
     "text": [
      "Đa cộng tuyến hoàn hảo được phát hiện với biến 'ENQUIRIES_9M'. Loại bỏ biến này.\n",
      "Loại bỏ 'OUTSTANDING_BAL_LOAN_CURRENT' do VIF cao (4595509823847.45)\n",
      "Loại bỏ 'NUMBER_OF_LOANS_NON_BANK' do VIF cao (1848009695268.98)\n",
      "Loại bỏ 'ENQUIRIES_FOR_CC_6M' do VIF cao (130.55)\n",
      "Loại bỏ 'ENQUIRIES_FROM_BANK_9M' do VIF cao (49.08)\n",
      "Loại bỏ 'NUMBER_OF_RELATIONSHIP_BANK' do VIF cao (26.71)\n",
      "Loại bỏ 'ENQUIRIES_FROM_NON_BANK_FOR_CC_9M' do VIF cao (22.22)\n",
      "Loại bỏ 'NUMBER_OF_RELATIONSHIP_NON_BANK' do VIF cao (19.54)\n"
     ]
    }
   ],
   "source": [
    "from statsmodels.stats.outliers_influence import variance_inflation_factor\n",
    "# Hàm tính toán VIF\n",
    "def calculate_vif(X):\n",
    "    vif_df = pd.DataFrame()\n",
    "    vif_df['feature'] = X.columns\n",
    "    vif_df['VIF'] = [variance_inflation_factor(X.values, i) for i in range(X.shape[1])]\n",
    "    return vif_df\n",
    "\n",
    "# Hàm loại bỏ các biến có VIF cao\n",
    "def remove_high_vif_features(X, threshold=5.0):\n",
    "    while True:\n",
    "        vif_df = calculate_vif(X)\n",
    "        max_vif = vif_df['VIF'].max()\n",
    "        if np.isinf(max_vif) or max_vif > threshold:\n",
    "            if np.isinf(max_vif):\n",
    "                max_vif_feature = vif_df.loc[vif_df['VIF'] == max_vif, 'feature'].values[0]\n",
    "                print(f\"Đa cộng tuyến hoàn hảo được phát hiện với biến '{max_vif_feature}'. Loại bỏ biến này.\")\n",
    "            else:\n",
    "                max_vif_feature = vif_df.loc[vif_df['VIF'] == max_vif, 'feature'].values[0]\n",
    "                print(f\"Loại bỏ '{max_vif_feature}' do VIF cao ({max_vif:.2f})\")\n",
    "            X = X.drop(columns=[max_vif_feature])\n",
    "        else:\n",
    "            break\n",
    "    return X\n",
    "\n",
    "\n",
    "# Loại bỏ các biến có VIF cao\n",
    "df = remove_high_vif_features(df)"
   ]
  },
  {
   "cell_type": "code",
   "execution_count": 168,
   "metadata": {},
   "outputs": [
    {
     "data": {
      "text/plain": [
       "(11417, 24)"
      ]
     },
     "execution_count": 168,
     "metadata": {},
     "output_type": "execute_result"
    }
   ],
   "source": [
    "df.shape"
   ]
  }
 ],
 "metadata": {
  "kernelspec": {
   "display_name": "Python 3",
   "language": "python",
   "name": "python3"
  },
  "language_info": {
   "codemirror_mode": {
    "name": "ipython",
    "version": 3
   },
   "file_extension": ".py",
   "mimetype": "text/x-python",
   "name": "python",
   "nbconvert_exporter": "python",
   "pygments_lexer": "ipython3",
   "version": "3.12.1"
  }
 },
 "nbformat": 4,
 "nbformat_minor": 2
}
