{
 "cells": [
  {
   "cell_type": "code",
   "execution_count": 1,
   "metadata": {
    "execution": {
     "iopub.execute_input": "2024-10-22T18:19:43.122014Z",
     "iopub.status.busy": "2024-10-22T18:19:43.121630Z",
     "iopub.status.idle": "2024-10-22T18:19:43.126692Z",
     "shell.execute_reply": "2024-10-22T18:19:43.125546Z",
     "shell.execute_reply.started": "2024-10-22T18:19:43.121979Z"
    },
    "trusted": true
   },
   "outputs": [],
   "source": [
    "import numpy as np\n",
    "\n",
    "import pandas as pd"
   ]
  },
  {
   "cell_type": "code",
   "execution_count": 2,
   "metadata": {
    "execution": {
     "iopub.execute_input": "2024-10-22T18:19:43.129023Z",
     "iopub.status.busy": "2024-10-22T18:19:43.128649Z",
     "iopub.status.idle": "2024-10-22T18:19:43.189849Z",
     "shell.execute_reply": "2024-10-22T18:19:43.188861Z",
     "shell.execute_reply.started": "2024-10-22T18:19:43.128958Z"
    },
    "trusted": true
   },
   "outputs": [],
   "source": [
    "df = pd.read_csv('../Data/Model_Data.csv')"
   ]
  },
  {
   "cell_type": "code",
   "execution_count": 3,
   "metadata": {
    "execution": {
     "iopub.execute_input": "2024-10-22T18:19:43.191244Z",
     "iopub.status.busy": "2024-10-22T18:19:43.190959Z",
     "iopub.status.idle": "2024-10-22T18:19:43.200547Z",
     "shell.execute_reply": "2024-10-22T18:19:43.199619Z",
     "shell.execute_reply.started": "2024-10-22T18:19:43.191212Z"
    },
    "trusted": true
   },
   "outputs": [],
   "source": [
    "X = df.drop(columns='label')\n",
    "\n",
    "y = df['label']"
   ]
  },
  {
   "cell_type": "code",
   "execution_count": 4,
   "metadata": {
    "execution": {
     "iopub.execute_input": "2024-10-22T18:19:43.203515Z",
     "iopub.status.busy": "2024-10-22T18:19:43.202906Z",
     "iopub.status.idle": "2024-10-22T18:19:43.211729Z",
     "shell.execute_reply": "2024-10-22T18:19:43.210742Z",
     "shell.execute_reply.started": "2024-10-22T18:19:43.203466Z"
    },
    "trusted": true
   },
   "outputs": [],
   "source": [
    "from sklearn.model_selection import train_test_split\n",
    "\n",
    "X_train, X_test, y_train, y_test = train_test_split(X, y, test_size=0.2, random_state=42)"
   ]
  },
  {
   "cell_type": "code",
   "execution_count": null,
   "metadata": {
    "execution": {
     "iopub.execute_input": "2024-10-22T18:19:43.213332Z",
     "iopub.status.busy": "2024-10-22T18:19:43.212952Z",
     "iopub.status.idle": "2024-10-22T18:20:25.945407Z",
     "shell.execute_reply": "2024-10-22T18:20:25.944409Z",
     "shell.execute_reply.started": "2024-10-22T18:19:43.213293Z"
    },
    "trusted": true
   },
   "outputs": [
    {
     "name": "stdout",
     "output_type": "stream",
     "text": [
      "Fitting 5 folds for each of 28 candidates, totalling 140 fits\n",
      "Tuned hyperparameters: (best parameters) {'classification__penalty': 'l1', 'classification__class_weight': 'balanced', 'classification__C': 0.1}\n",
      "\u001b[1mBest ROC AUC: 0.7600949672402255\n",
      "\n",
      "Classification Report:\n",
      "              precision    recall  f1-score   support\n",
      "\n",
      "           0       0.90      0.82      0.86      1745\n",
      "           1       0.55      0.71      0.62       539\n",
      "\n",
      "    accuracy                           0.80      2284\n",
      "   macro avg       0.73      0.77      0.74      2284\n",
      "weighted avg       0.82      0.80      0.80      2284\n",
      "\n"
     ]
    }
   ],
   "source": [
    "from sklearn.model_selection import RandomizedSearchCV, StratifiedKFold\n",
    "from sklearn.linear_model import LogisticRegression\n",
    "from sklearn.preprocessing import MinMaxScaler\n",
    "from sklearn.metrics import classification_report, make_scorer, roc_auc_score\n",
    "from imblearn.pipeline import Pipeline\n",
    "from imblearn.combine import SMOTEENN\n",
    "from imblearn.over_sampling import SMOTE\n",
    "\n",
    "\n",
    "pipeline = Pipeline([\n",
    "    ('smoteenn', SMOTEENN(smote=SMOTE(k_neighbors=5))),  \n",
    "    ('scaler', MinMaxScaler()), \n",
    "    ('classification', LogisticRegression(solver=\"liblinear\", max_iter=5000)) \n",
    "])\n",
    "\n",
    "param_grid = {\n",
    "    'classification__C': [0.001, 0.01, 0.1, 1, 10, 100, 1000],  \n",
    "    'classification__penalty': ['l1', 'l2'], \n",
    "    'classification__class_weight': ['balanced', None],  \n",
    "}\n",
    "\n",
    "cv = StratifiedKFold(n_splits=5, shuffle=True, random_state=42)\n",
    "\n",
    "scoring = make_scorer(roc_auc_score)\n",
    "\n",
    "random_search = RandomizedSearchCV(\n",
    "    pipeline, \n",
    "    param_grid, \n",
    "    n_iter=28,  \n",
    "    cv=cv,  \n",
    "    n_jobs=-1, \n",
    "    verbose=1, \n",
    "    random_state=42,  \n",
    "    scoring=scoring \n",
    ")\n",
    "\n",
    "random_search.fit(X_train, y_train)\n",
    "\n",
    "print(\"Tuned hyperparameters: (best parameters)\", random_search.best_params_)\n",
    "print(\"\\033[1m\" + \"Best ROC AUC:\", random_search.best_score_)\n",
    "\n",
    "# Predict on test set\n",
    "y_pred = random_search.predict(X_test)\n",
    "\n",
    "# Print classification report\n",
    "print(\"\\nClassification Report:\")\n",
    "print(classification_report(y_test, y_pred))\n"
   ]
  },
  {
   "cell_type": "code",
   "execution_count": 6,
   "metadata": {
    "execution": {
     "iopub.execute_input": "2024-10-22T18:20:25.946882Z",
     "iopub.status.busy": "2024-10-22T18:20:25.946494Z"
    },
    "trusted": true
   },
   "outputs": [
    {
     "name": "stdout",
     "output_type": "stream",
     "text": [
      "Fitting 5 folds for each of 28 candidates, totalling 140 fits\n",
      "Tuned hyperparameters: (best parameters) {'classification__C': 0.001, 'classification__class_weight': 'balanced', 'classification__penalty': 'l2'}\n",
      "\u001b[1mAccuracy: 0.809810431455633\n",
      "\n",
      "Classification Report:\n",
      "              precision    recall  f1-score   support\n",
      "\n",
      "           0       0.89      0.85      0.87      1745\n",
      "           1       0.58      0.64      0.61       539\n",
      "\n",
      "    accuracy                           0.80      2284\n",
      "   macro avg       0.73      0.75      0.74      2284\n",
      "weighted avg       0.81      0.80      0.81      2284\n",
      "\n"
     ]
    }
   ],
   "source": [
    "from sklearn.model_selection import GridSearchCV, StratifiedKFold\n",
    "from sklearn.linear_model import LogisticRegression\n",
    "from sklearn.preprocessing import MinMaxScaler\n",
    "from sklearn.metrics import classification_report\n",
    "from imblearn.pipeline import Pipeline\n",
    "from imblearn.combine import SMOTEENN\n",
    "from imblearn.over_sampling import SMOTE\n",
    "\n",
    "pipeline = Pipeline([\n",
    "    ('smoteenn', SMOTEENN(smote=SMOTE(k_neighbors=5))),  \n",
    "    ('scaler', MinMaxScaler()), \n",
    "    ('classification', LogisticRegression(solver=\"liblinear\", max_iter=5000)) \n",
    "])\n",
    "\n",
    "\n",
    "param_grid = {\n",
    "    'classification__C': [0.001, 0.01, 0.1, 1, 10, 100, 1000],  \n",
    "    'classification__penalty': ['l1', 'l2'], \n",
    "    'classification__class_weight': ['balanced', None],  # Dealing with imbalance\n",
    "}\n",
    "\n",
    "# Use StratifiedKFold to maintain class distribution in folds\n",
    "cv = StratifiedKFold(n_splits=5, shuffle=True, random_state=42)\n",
    "\n",
    "# GridSearchCV for hyperparameter tuning\n",
    "grid_search = GridSearchCV(pipeline, param_grid, cv=cv, n_jobs=-1, verbose=1)\n",
    "grid_search.fit(X_train, y_train)\n",
    "\n",
    "# Display best hyperparameters and accuracy\n",
    "print(\"Tuned hyperparameters: (best parameters)\", grid_search.best_params_)\n",
    "print(\"\\033[1m\" + \"Accuracy:\", grid_search.best_score_)\n",
    "\n",
    "# Predict on test set\n",
    "y_pred = grid_search.predict(X_test)\n",
    "\n",
    "# Print classification report\n",
    "print(\"\\nClassification Report:\")\n",
    "print(classification_report(y_test, y_pred))"
   ]
  },
  {
   "cell_type": "code",
   "execution_count": null,
   "metadata": {
    "trusted": true
   },
   "outputs": [],
   "source": []
  }
 ],
 "metadata": {
  "kaggle": {
   "accelerator": "gpu",
   "dataSources": [
    {
     "datasetId": 5926400,
     "sourceId": 9693307,
     "sourceType": "datasetVersion"
    },
    {
     "datasetId": 5927748,
     "sourceId": 9695052,
     "sourceType": "datasetVersion"
    },
    {
     "sourceId": 202697797,
     "sourceType": "kernelVersion"
    }
   ],
   "dockerImageVersionId": 30787,
   "isGpuEnabled": true,
   "isInternetEnabled": true,
   "language": "python",
   "sourceType": "notebook"
  },
  "kernelspec": {
   "display_name": "Python 3",
   "language": "python",
   "name": "python3"
  },
  "language_info": {
   "codemirror_mode": {
    "name": "ipython",
    "version": 3
   },
   "file_extension": ".py",
   "mimetype": "text/x-python",
   "name": "python",
   "nbconvert_exporter": "python",
   "pygments_lexer": "ipython3",
   "version": "3.12.1"
  }
 },
 "nbformat": 4,
 "nbformat_minor": 4
}
