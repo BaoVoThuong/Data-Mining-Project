{
 "cells": [
  {
   "cell_type": "code",
   "execution_count": null,
   "metadata": {
    "vscode": {
     "languageId": "plaintext"
    }
   },
   "outputs": [],
   "source": [
    "import pandas as pd\n",
    "from sklearn.model_selection import train_test_split\n",
    "from sklearn.preprocessing import StandardScaler\n",
    "from sklearn.neural_network import MLPClassifier\n",
    "from sklearn.metrics import accuracy_score, classification_report\n",
    "from minisom import MiniSom  # Thư viện cho Self-Organizing Maps (SOM)\n",
    "\n",
    "# Bước 1: Load dữ liệu\n",
    "df = pd.read_csv('/kaggle/input/model-data/Model_Data.csv')\n",
    "X = df.drop(columns='label')\n",
    "y = df['label']\n",
    "\n",
    "# Bước 2: Chia dữ liệu thành tập huấn luyện và tập kiểm tra\n",
    "X_train, X_test, y_train, y_test = train_test_split(X, y, test_size=0.3, random_state=42)\n",
    "\n",
    "# Bước 3: Chuẩn hóa dữ liệu\n",
    "scaler = StandardScaler()\n",
    "X_train_scaled = scaler.fit_transform(X_train)\n",
    "X_test_scaled = scaler.transform(X_test)\n",
    "\n",
    "### Mô hình ANN + ANN\n",
    "# Bước 4a: Xây dựng ANN đầu tiên để giảm dữ liệu\n",
    "ann1 = MLPClassifier(hidden_layer_sizes=(100,), max_iter=300, random_state=42)\n",
    "ann1.fit(X_train_scaled, y_train)\n",
    "X_train_reduced = ann1.predict_proba(X_train_scaled)  # Dữ liệu đã giảm\n",
    "\n",
    "# Bước 5a: Xây dựng ANN thứ hai cho dự đoán dựa trên dữ liệu đã giảm\n",
    "ann2 = MLPClassifier(hidden_layer_sizes=(100,), max_iter=300, random_state=42)\n",
    "ann2.fit(X_train_reduced, y_train)\n",
    "\n",
    "# Bước 6a: Đánh giá mô hình ANN + ANN\n",
    "X_test_reduced = ann1.predict_proba(X_test_scaled)\n",
    "y_pred_ann = ann2.predict(X_test_reduced)\n",
    "print(\"ANN + ANN Accuracy:\", accuracy_score(y_test, y_pred_ann))\n",
    "print(\"Classification Report for ANN + ANN:\\n\", classification_report(y_test, y_pred_ann))\n",
    "\n",
    "### Mô hình SOM + ANN\n",
    "# Bước 4b: Xây dựng SOM để giảm dữ liệu\n",
    "som = MiniSom(10, 10, X_train_scaled.shape[1], sigma=1.0, learning_rate=0.5)\n",
    "som.train_random(X_train_scaled, 100)\n",
    "\n",
    "# Biểu diễn dữ liệu thành dữ liệu đại diện\n",
    "X_train_reduced_som = [som.winner(x) for x in X_train_scaled]\n",
    "X_test_reduced_som = [som.winner(x) for x in X_test_scaled]\n",
    "\n",
    "# Chuyển đổi dữ liệu thành định dạng dễ hiểu cho ANN thứ hai\n",
    "X_train_reduced_som = pd.get_dummies(X_train_reduced_som)\n",
    "X_test_reduced_som = pd.get_dummies(X_test_reduced_som)\n",
    "X_train_reduced_som, X_test_reduced_som = X_train_reduced_som.align(X_test_reduced_som, fill_value=0, axis=1)\n",
    "\n",
    "# Bước 5b: Xây dựng ANN thứ hai cho dự đoán dựa trên dữ liệu SOM đã giảm\n",
    "ann_som = MLPClassifier(hidden_layer_sizes=(100,), max_iter=300, random_state=42)\n",
    "ann_som.fit(X_train_reduced_som, y_train)\n",
    "\n",
    "# Bước 6b: Đánh giá mô hình SOM + ANN\n",
    "y_pred_som = ann_som.predict(X_test_reduced_som)\n",
    "print(\"SOM + ANN Accuracy:\", accuracy_score(y_test, y_pred_som))\n",
    "print(\"Classification Report for SOM + ANN:\\n\", classification_report(y_test, y_pred_som))\n"
   ]
  }
 ],
 "metadata": {
  "language_info": {
   "name": "python"
  }
 },
 "nbformat": 4,
 "nbformat_minor": 2
}
